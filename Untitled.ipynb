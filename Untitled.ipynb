{
 "cells": [
  {
   "cell_type": "markdown",
   "metadata": {},
   "source": [
    "#import required libraries "
   ]
  },
  {
   "cell_type": "code",
   "execution_count": 1,
   "metadata": {},
   "outputs": [],
   "source": [
    "import pandas as pd \n",
    "import numpy as np\n",
    "import matplotlib.pyplot as plt\n",
    "from sklearn.model_selection import train_test_split\n",
    "from scipy import stats\n",
    "import seaborn as sns\n",
    "from datetime import datetime\n",
    "import calendar"
   ]
  },
  {
   "cell_type": "raw",
   "metadata": {},
   "source": [
    "#load the data"
   ]
  },
  {
   "cell_type": "code",
   "execution_count": 2,
   "metadata": {},
   "outputs": [],
   "source": [
    "train=pd.read_csv(r\"train.csv\")\n",
    "test=pd.read_csv(r\"test.csv\")\n",
    "train_label=pd.read_csv(\"train_label.csv\",header=None)\n",
    "test_label=pd.read_csv(\"test_label.csv\",header=None)"
   ]
  },
  {
   "cell_type": "code",
   "execution_count": 3,
   "metadata": {},
   "outputs": [],
   "source": [
    "train[\"total_booking\"]=train_label[0]"
   ]
  },
  {
   "cell_type": "code",
   "execution_count": 4,
   "metadata": {},
   "outputs": [],
   "source": [
    "test[\"total_booking\"]=test_label[0]"
   ]
  },
  {
   "cell_type": "markdown",
   "metadata": {},
   "source": [
    "###  Missing values"
   ]
  },
  {
   "cell_type": "code",
   "execution_count": 5,
   "metadata": {},
   "outputs": [
    {
     "data": {
      "text/plain": [
       "0"
      ]
     },
     "execution_count": 5,
     "metadata": {},
     "output_type": "execute_result"
    }
   ],
   "source": [
    "train.isnull().sum().sum()"
   ]
  },
  {
   "cell_type": "code",
   "execution_count": 6,
   "metadata": {},
   "outputs": [
    {
     "data": {
      "text/plain": [
       "0"
      ]
     },
     "execution_count": 6,
     "metadata": {},
     "output_type": "execute_result"
    }
   ],
   "source": [
    "test.isnull().sum().sum()"
   ]
  },
  {
   "cell_type": "markdown",
   "metadata": {},
   "source": [
    "### Correlation Analysis"
   ]
  },
  {
   "cell_type": "code",
   "execution_count": 7,
   "metadata": {},
   "outputs": [
    {
     "data": {
      "text/html": [
       "<div>\n",
       "<style scoped>\n",
       "    .dataframe tbody tr th:only-of-type {\n",
       "        vertical-align: middle;\n",
       "    }\n",
       "\n",
       "    .dataframe tbody tr th {\n",
       "        vertical-align: top;\n",
       "    }\n",
       "\n",
       "    .dataframe thead th {\n",
       "        text-align: right;\n",
       "    }\n",
       "</style>\n",
       "<table border=\"1\" class=\"dataframe\">\n",
       "  <thead>\n",
       "    <tr style=\"text-align: right;\">\n",
       "      <th></th>\n",
       "      <th>holiday</th>\n",
       "      <th>workingday</th>\n",
       "      <th>temp</th>\n",
       "      <th>atemp</th>\n",
       "      <th>humidity</th>\n",
       "      <th>windspeed</th>\n",
       "      <th>total_booking</th>\n",
       "    </tr>\n",
       "  </thead>\n",
       "  <tbody>\n",
       "    <tr>\n",
       "      <th>holiday</th>\n",
       "      <td>1.000000</td>\n",
       "      <td>-0.249755</td>\n",
       "      <td>-0.000165</td>\n",
       "      <td>-0.005526</td>\n",
       "      <td>-0.004567</td>\n",
       "      <td>0.008075</td>\n",
       "      <td>-0.004391</td>\n",
       "    </tr>\n",
       "    <tr>\n",
       "      <th>workingday</th>\n",
       "      <td>-0.249755</td>\n",
       "      <td>1.000000</td>\n",
       "      <td>0.032189</td>\n",
       "      <td>0.026168</td>\n",
       "      <td>-0.009282</td>\n",
       "      <td>0.013035</td>\n",
       "      <td>0.012285</td>\n",
       "    </tr>\n",
       "    <tr>\n",
       "      <th>temp</th>\n",
       "      <td>-0.000165</td>\n",
       "      <td>0.032189</td>\n",
       "      <td>1.000000</td>\n",
       "      <td>0.984035</td>\n",
       "      <td>-0.066419</td>\n",
       "      <td>-0.027824</td>\n",
       "      <td>0.397456</td>\n",
       "    </tr>\n",
       "    <tr>\n",
       "      <th>atemp</th>\n",
       "      <td>-0.005526</td>\n",
       "      <td>0.026168</td>\n",
       "      <td>0.984035</td>\n",
       "      <td>1.000000</td>\n",
       "      <td>-0.044206</td>\n",
       "      <td>-0.068911</td>\n",
       "      <td>0.392754</td>\n",
       "    </tr>\n",
       "    <tr>\n",
       "      <th>humidity</th>\n",
       "      <td>-0.004567</td>\n",
       "      <td>-0.009282</td>\n",
       "      <td>-0.066419</td>\n",
       "      <td>-0.044206</td>\n",
       "      <td>1.000000</td>\n",
       "      <td>-0.320346</td>\n",
       "      <td>-0.307982</td>\n",
       "    </tr>\n",
       "    <tr>\n",
       "      <th>windspeed</th>\n",
       "      <td>0.008075</td>\n",
       "      <td>0.013035</td>\n",
       "      <td>-0.027824</td>\n",
       "      <td>-0.068911</td>\n",
       "      <td>-0.320346</td>\n",
       "      <td>1.000000</td>\n",
       "      <td>0.092090</td>\n",
       "    </tr>\n",
       "    <tr>\n",
       "      <th>total_booking</th>\n",
       "      <td>-0.004391</td>\n",
       "      <td>0.012285</td>\n",
       "      <td>0.397456</td>\n",
       "      <td>0.392754</td>\n",
       "      <td>-0.307982</td>\n",
       "      <td>0.092090</td>\n",
       "      <td>1.000000</td>\n",
       "    </tr>\n",
       "  </tbody>\n",
       "</table>\n",
       "</div>"
      ],
      "text/plain": [
       "                holiday  workingday      temp     atemp  humidity  windspeed  \\\n",
       "holiday        1.000000   -0.249755 -0.000165 -0.005526 -0.004567   0.008075   \n",
       "workingday    -0.249755    1.000000  0.032189  0.026168 -0.009282   0.013035   \n",
       "temp          -0.000165    0.032189  1.000000  0.984035 -0.066419  -0.027824   \n",
       "atemp         -0.005526    0.026168  0.984035  1.000000 -0.044206  -0.068911   \n",
       "humidity      -0.004567   -0.009282 -0.066419 -0.044206  1.000000  -0.320346   \n",
       "windspeed      0.008075    0.013035 -0.027824 -0.068911 -0.320346   1.000000   \n",
       "total_booking -0.004391    0.012285  0.397456  0.392754 -0.307982   0.092090   \n",
       "\n",
       "               total_booking  \n",
       "holiday            -0.004391  \n",
       "workingday          0.012285  \n",
       "temp                0.397456  \n",
       "atemp               0.392754  \n",
       "humidity           -0.307982  \n",
       "windspeed           0.092090  \n",
       "total_booking       1.000000  "
      ]
     },
     "execution_count": 7,
     "metadata": {},
     "output_type": "execute_result"
    }
   ],
   "source": [
    "train.corr(method='pearson')"
   ]
  },
  {
   "cell_type": "code",
   "execution_count": 8,
   "metadata": {},
   "outputs": [
    {
     "data": {
      "text/html": [
       "<div>\n",
       "<style scoped>\n",
       "    .dataframe tbody tr th:only-of-type {\n",
       "        vertical-align: middle;\n",
       "    }\n",
       "\n",
       "    .dataframe tbody tr th {\n",
       "        vertical-align: top;\n",
       "    }\n",
       "\n",
       "    .dataframe thead th {\n",
       "        text-align: right;\n",
       "    }\n",
       "</style>\n",
       "<table border=\"1\" class=\"dataframe\">\n",
       "  <thead>\n",
       "    <tr style=\"text-align: right;\">\n",
       "      <th></th>\n",
       "      <th>holiday</th>\n",
       "      <th>workingday</th>\n",
       "      <th>temp</th>\n",
       "      <th>atemp</th>\n",
       "      <th>humidity</th>\n",
       "      <th>windspeed</th>\n",
       "      <th>total_booking</th>\n",
       "    </tr>\n",
       "  </thead>\n",
       "  <tbody>\n",
       "    <tr>\n",
       "      <th>holiday</th>\n",
       "      <td>1.000000</td>\n",
       "      <td>-0.253450</td>\n",
       "      <td>0.002162</td>\n",
       "      <td>-0.003962</td>\n",
       "      <td>0.027313</td>\n",
       "      <td>0.009818</td>\n",
       "      <td>-0.009335</td>\n",
       "    </tr>\n",
       "    <tr>\n",
       "      <th>workingday</th>\n",
       "      <td>-0.253450</td>\n",
       "      <td>1.000000</td>\n",
       "      <td>0.020971</td>\n",
       "      <td>0.018524</td>\n",
       "      <td>-0.017540</td>\n",
       "      <td>0.014895</td>\n",
       "      <td>0.008996</td>\n",
       "    </tr>\n",
       "    <tr>\n",
       "      <th>temp</th>\n",
       "      <td>0.002162</td>\n",
       "      <td>0.020971</td>\n",
       "      <td>1.000000</td>\n",
       "      <td>0.988735</td>\n",
       "      <td>-0.058778</td>\n",
       "      <td>0.023065</td>\n",
       "      <td>0.382144</td>\n",
       "    </tr>\n",
       "    <tr>\n",
       "      <th>atemp</th>\n",
       "      <td>-0.003962</td>\n",
       "      <td>0.018524</td>\n",
       "      <td>0.988735</td>\n",
       "      <td>1.000000</td>\n",
       "      <td>-0.040906</td>\n",
       "      <td>-0.010280</td>\n",
       "      <td>0.377821</td>\n",
       "    </tr>\n",
       "    <tr>\n",
       "      <th>humidity</th>\n",
       "      <td>0.027313</td>\n",
       "      <td>-0.017540</td>\n",
       "      <td>-0.058778</td>\n",
       "      <td>-0.040906</td>\n",
       "      <td>1.000000</td>\n",
       "      <td>-0.310934</td>\n",
       "      <td>-0.353767</td>\n",
       "    </tr>\n",
       "    <tr>\n",
       "      <th>windspeed</th>\n",
       "      <td>0.009818</td>\n",
       "      <td>0.014895</td>\n",
       "      <td>0.023065</td>\n",
       "      <td>-0.010280</td>\n",
       "      <td>-0.310934</td>\n",
       "      <td>1.000000</td>\n",
       "      <td>0.138743</td>\n",
       "    </tr>\n",
       "    <tr>\n",
       "      <th>total_booking</th>\n",
       "      <td>-0.009335</td>\n",
       "      <td>0.008996</td>\n",
       "      <td>0.382144</td>\n",
       "      <td>0.377821</td>\n",
       "      <td>-0.353767</td>\n",
       "      <td>0.138743</td>\n",
       "      <td>1.000000</td>\n",
       "    </tr>\n",
       "  </tbody>\n",
       "</table>\n",
       "</div>"
      ],
      "text/plain": [
       "                holiday  workingday      temp     atemp  humidity  windspeed  \\\n",
       "holiday        1.000000   -0.253450  0.002162 -0.003962  0.027313   0.009818   \n",
       "workingday    -0.253450    1.000000  0.020971  0.018524 -0.017540   0.014895   \n",
       "temp           0.002162    0.020971  1.000000  0.988735 -0.058778   0.023065   \n",
       "atemp         -0.003962    0.018524  0.988735  1.000000 -0.040906  -0.010280   \n",
       "humidity       0.027313   -0.017540 -0.058778 -0.040906  1.000000  -0.310934   \n",
       "windspeed      0.009818    0.014895  0.023065 -0.010280 -0.310934   1.000000   \n",
       "total_booking -0.009335    0.008996  0.382144  0.377821 -0.353767   0.138743   \n",
       "\n",
       "               total_booking  \n",
       "holiday            -0.009335  \n",
       "workingday          0.008996  \n",
       "temp                0.382144  \n",
       "atemp               0.377821  \n",
       "humidity           -0.353767  \n",
       "windspeed           0.138743  \n",
       "total_booking       1.000000  "
      ]
     },
     "execution_count": 8,
     "metadata": {},
     "output_type": "execute_result"
    }
   ],
   "source": [
    "test.corr(method='pearson')"
   ]
  },
  {
   "cell_type": "markdown",
   "metadata": {},
   "source": [
    "# Outlier Analysis"
   ]
  },
  {
   "cell_type": "code",
   "execution_count": 9,
   "metadata": {},
   "outputs": [],
   "source": [
    "col=[]\n",
    "for i in train:\n",
    "    if train[i].dtypes == \"int64\" or train[i].dtypes==\"float64\" :\n",
    "        train1=train.loc[(stats.zscore(train[i])>0.1)]"
   ]
  },
  {
   "cell_type": "code",
   "execution_count": 10,
   "metadata": {},
   "outputs": [],
   "source": [
    "col=[]\n",
    "for i in test:\n",
    "    if test[i].dtypes == \"int64\" or test[i].dtypes==\"float64\" :\n",
    "        test1=test.loc[(stats.zscore(test[i])>0.1)]"
   ]
  },
  {
   "cell_type": "markdown",
   "metadata": {},
   "source": [
    "# visualizing with different data"
   ]
  },
  {
   "cell_type": "code",
   "execution_count": 11,
   "metadata": {},
   "outputs": [
    {
     "data": {
      "text/html": [
       "<div>\n",
       "<style scoped>\n",
       "    .dataframe tbody tr th:only-of-type {\n",
       "        vertical-align: middle;\n",
       "    }\n",
       "\n",
       "    .dataframe tbody tr th {\n",
       "        vertical-align: top;\n",
       "    }\n",
       "\n",
       "    .dataframe thead th {\n",
       "        text-align: right;\n",
       "    }\n",
       "</style>\n",
       "<table border=\"1\" class=\"dataframe\">\n",
       "  <thead>\n",
       "    <tr style=\"text-align: right;\">\n",
       "      <th></th>\n",
       "      <th>datetime</th>\n",
       "      <th>season</th>\n",
       "      <th>holiday</th>\n",
       "      <th>workingday</th>\n",
       "      <th>weather</th>\n",
       "      <th>temp</th>\n",
       "      <th>atemp</th>\n",
       "      <th>humidity</th>\n",
       "      <th>windspeed</th>\n",
       "      <th>total_booking</th>\n",
       "    </tr>\n",
       "  </thead>\n",
       "  <tbody>\n",
       "    <tr>\n",
       "      <th>0</th>\n",
       "      <td>5/2/2012 19:00</td>\n",
       "      <td>Summer</td>\n",
       "      <td>0</td>\n",
       "      <td>1</td>\n",
       "      <td>Clear + Few clouds</td>\n",
       "      <td>22.14</td>\n",
       "      <td>25.760</td>\n",
       "      <td>77</td>\n",
       "      <td>16.9979</td>\n",
       "      <td>504</td>\n",
       "    </tr>\n",
       "    <tr>\n",
       "      <th>5</th>\n",
       "      <td>8/17/2012 17:00</td>\n",
       "      <td>Fall</td>\n",
       "      <td>0</td>\n",
       "      <td>1</td>\n",
       "      <td>Clear + Few clouds</td>\n",
       "      <td>33.62</td>\n",
       "      <td>12.120</td>\n",
       "      <td>36</td>\n",
       "      <td>22.0028</td>\n",
       "      <td>791</td>\n",
       "    </tr>\n",
       "    <tr>\n",
       "      <th>6</th>\n",
       "      <td>10/6/2012 9:00</td>\n",
       "      <td>Winter</td>\n",
       "      <td>0</td>\n",
       "      <td>0</td>\n",
       "      <td>Clear + Few clouds</td>\n",
       "      <td>24.60</td>\n",
       "      <td>29.545</td>\n",
       "      <td>73</td>\n",
       "      <td>12.9980</td>\n",
       "      <td>395</td>\n",
       "    </tr>\n",
       "    <tr>\n",
       "      <th>11</th>\n",
       "      <td>9/10/2012 20:00</td>\n",
       "      <td>Fall</td>\n",
       "      <td>0</td>\n",
       "      <td>1</td>\n",
       "      <td>Clear + Few clouds</td>\n",
       "      <td>24.60</td>\n",
       "      <td>31.060</td>\n",
       "      <td>40</td>\n",
       "      <td>12.9980</td>\n",
       "      <td>390</td>\n",
       "    </tr>\n",
       "    <tr>\n",
       "      <th>12</th>\n",
       "      <td>3/13/2011 13:00</td>\n",
       "      <td>Spring</td>\n",
       "      <td>0</td>\n",
       "      <td>0</td>\n",
       "      <td>Clear + Few clouds</td>\n",
       "      <td>18.86</td>\n",
       "      <td>22.725</td>\n",
       "      <td>38</td>\n",
       "      <td>26.0027</td>\n",
       "      <td>221</td>\n",
       "    </tr>\n",
       "  </tbody>\n",
       "</table>\n",
       "</div>"
      ],
      "text/plain": [
       "           datetime  season  holiday  workingday              weather   temp  \\\n",
       "0    5/2/2012 19:00  Summer        0           1   Clear + Few clouds  22.14   \n",
       "5   8/17/2012 17:00    Fall        0           1   Clear + Few clouds  33.62   \n",
       "6    10/6/2012 9:00  Winter        0           0   Clear + Few clouds  24.60   \n",
       "11  9/10/2012 20:00    Fall        0           1   Clear + Few clouds  24.60   \n",
       "12  3/13/2011 13:00  Spring        0           0   Clear + Few clouds  18.86   \n",
       "\n",
       "     atemp  humidity  windspeed  total_booking  \n",
       "0   25.760        77    16.9979            504  \n",
       "5   12.120        36    22.0028            791  \n",
       "6   29.545        73    12.9980            395  \n",
       "11  31.060        40    12.9980            390  \n",
       "12  22.725        38    26.0027            221  "
      ]
     },
     "execution_count": 11,
     "metadata": {},
     "output_type": "execute_result"
    }
   ],
   "source": [
    "train1.head()"
   ]
  },
  {
   "cell_type": "code",
   "execution_count": 12,
   "metadata": {},
   "outputs": [
    {
     "data": {
      "image/png": "[encoded data removed]",
      "text/plain": [
       "<Figure size 432x288 with 1 Axes>"
      ]
     },
     "metadata": {},
     "output_type": "display_data"
    }
   ],
   "source": [
    "mm=train1[\"season\"].value_counts()\n",
    "plt.pie(mm,autopct='%1.1f%%',explode=[0,0,0,0.1],labels=[\"summer\",\"fall\",\"winter\",\"spring\"])\n",
    "plt.title(\"season\")\n",
    "plt.legend(loc=\"center right\",bbox_to_anchor=(1.5,0.5))\n",
    "plt.show()"
   ]
  },
  {
   "cell_type": "code",
   "execution_count": 13,
   "metadata": {},
   "outputs": [
    {
     "data": {
      "image/png": "[encoded data removed]",
      "text/plain": [
       "<Figure size 432x288 with 1 Axes>"
      ]
     },
     "metadata": {
      "needs_background": "light"
     },
     "output_type": "display_data"
    }
   ],
   "source": [
    "plt.hist(train1[\"temp\"],5,label=\"count_temp\")\n",
    "plt.title(\"Temperature\")\n",
    "plt.xlabel(\"count\")\n",
    "plt.ylabel(\"temp(cel)\")\n",
    "plt.legend()\n",
    "plt.show()"
   ]
  },
  {
   "cell_type": "code",
   "execution_count": 14,
   "metadata": {},
   "outputs": [
    {
     "data": {
      "image/png": "[encoded data removed]",
      "text/plain": [
       "<Figure size 864x504 with 1 Axes>"
      ]
     },
     "metadata": {
      "needs_background": "light"
     },
     "output_type": "display_data"
    }
   ],
   "source": [
    "plt.figure(figsize=(12,7))\n",
    "plt.scatter(train1[\"humidity\"],train1[\"windspeed\"],label=\"humidity vs windspeed\")\n",
    "plt.xlabel(\"humidity\")\n",
    "plt.ylabel(\"windspeed\")\n",
    "plt.title(\"humidity Vs windspeed\")\n",
    "plt.legend()\n",
    "plt.show()"
   ]
  },
  {
   "cell_type": "code",
   "execution_count": 15,
   "metadata": {},
   "outputs": [
    {
     "data": {
      "image/png": "[encoded data removed]",
      "text/plain": [
       "<Figure size 432x288 with 1 Axes>"
      ]
     },
     "metadata": {
      "needs_background": "light"
     },
     "output_type": "display_data"
    }
   ],
   "source": [
    "sns.barplot(x=\"season\",y=\"total_booking\",hue=\"weather\",data=train1)\n",
    "plt.legend(loc=\"upper right\",bbox_to_anchor=(1.5,0.5))\n",
    "plt.title(\"total_booking on each season\")\n",
    "plt.show()"
   ]
  },
  {
   "cell_type": "code",
   "execution_count": 16,
   "metadata": {},
   "outputs": [
    {
     "data": {
      "text/plain": [
       "<AxesSubplot:>"
      ]
     },
     "execution_count": 16,
     "metadata": {},
     "output_type": "execute_result"
    },
    {
     "data": {
      "image/png": "[encoded data removed]",
      "text/plain": [
       "<Figure size 432x288 with 2 Axes>"
      ]
     },
     "metadata": {
      "needs_background": "light"
     },
     "output_type": "display_data"
    }
   ],
   "source": [
    "sns.heatmap(train1.corr())"
   ]
  },
  {
   "cell_type": "code",
   "execution_count": 17,
   "metadata": {},
   "outputs": [
    {
     "data": {
      "image/png": "[encoded data removed]",
      "text/plain": [
       "<Figure size 432x288 with 1 Axes>"
      ]
     },
     "metadata": {
      "needs_background": "light"
     },
     "output_type": "display_data"
    }
   ],
   "source": [
    "plt.boxplot(train1[\"windspeed\"])\n",
    "plt.show()"
   ]
  },
  {
   "cell_type": "markdown",
   "metadata": {},
   "source": [
    "# graph with total_booking"
   ]
  },
  {
   "cell_type": "code",
   "execution_count": 18,
   "metadata": {},
   "outputs": [
    {
     "data": {
      "image/png": "[encoded data removed]",
      "text/plain": [
       "<Figure size 864x504 with 1 Axes>"
      ]
     },
     "metadata": {
      "needs_background": "light"
     },
     "output_type": "display_data"
    }
   ],
   "source": [
    "plt.figure(figsize=(12,7))\n",
    "plt.scatter(train1[\"windspeed\"],train1[\"total_booking\"],color=\"b\",label=\"bookings\")\n",
    "plt.title(\"windspeed Vs total booking\")\n",
    "plt.xlabel(\"windspeed\")\n",
    "plt.ylabel(\"total booking\")\n",
    "plt.legend()\n",
    "plt.show()"
   ]
  },
  {
   "cell_type": "code",
   "execution_count": 19,
   "metadata": {},
   "outputs": [
    {
     "data": {
      "image/png": "[encoded data removed]",
      "text/plain": [
       "<Figure size 432x288 with 1 Axes>"
      ]
     },
     "metadata": {
      "needs_background": "light"
     },
     "output_type": "display_data"
    }
   ],
   "source": [
    "plt.barh(train1[\"windspeed\"],train1[\"total_booking\"],label=\"booking_count\")\n",
    "plt.title(\"windspeed vs total_booking\")\n",
    "plt.xlabel(\"windspeed\")\n",
    "plt.ylabel(\"total booking\")\n",
    "plt.legend()\n",
    "plt.xticks()\n",
    "plt.show()"
   ]
  },
  {
   "cell_type": "markdown",
   "metadata": {},
   "source": [
    "# Correlation analysis"
   ]
  },
  {
   "cell_type": "code",
   "execution_count": 20,
   "metadata": {},
   "outputs": [
    {
     "data": {
      "text/html": [
       "<div>\n",
       "<style scoped>\n",
       "    .dataframe tbody tr th:only-of-type {\n",
       "        vertical-align: middle;\n",
       "    }\n",
       "\n",
       "    .dataframe tbody tr th {\n",
       "        vertical-align: top;\n",
       "    }\n",
       "\n",
       "    .dataframe thead th {\n",
       "        text-align: right;\n",
       "    }\n",
       "</style>\n",
       "<table border=\"1\" class=\"dataframe\">\n",
       "  <thead>\n",
       "    <tr style=\"text-align: right;\">\n",
       "      <th></th>\n",
       "      <th>holiday</th>\n",
       "      <th>workingday</th>\n",
       "      <th>temp</th>\n",
       "      <th>atemp</th>\n",
       "      <th>humidity</th>\n",
       "      <th>windspeed</th>\n",
       "      <th>total_booking</th>\n",
       "    </tr>\n",
       "  </thead>\n",
       "  <tbody>\n",
       "    <tr>\n",
       "      <th>holiday</th>\n",
       "      <td>1.000000</td>\n",
       "      <td>-0.249241</td>\n",
       "      <td>0.060121</td>\n",
       "      <td>0.058766</td>\n",
       "      <td>0.018977</td>\n",
       "      <td>0.001593</td>\n",
       "      <td>-0.006919</td>\n",
       "    </tr>\n",
       "    <tr>\n",
       "      <th>workingday</th>\n",
       "      <td>-0.249241</td>\n",
       "      <td>1.000000</td>\n",
       "      <td>-0.061868</td>\n",
       "      <td>-0.075694</td>\n",
       "      <td>0.066021</td>\n",
       "      <td>0.005113</td>\n",
       "      <td>0.007593</td>\n",
       "    </tr>\n",
       "    <tr>\n",
       "      <th>temp</th>\n",
       "      <td>0.060121</td>\n",
       "      <td>-0.061868</td>\n",
       "      <td>1.000000</td>\n",
       "      <td>0.967486</td>\n",
       "      <td>-0.177841</td>\n",
       "      <td>-0.010263</td>\n",
       "      <td>0.181651</td>\n",
       "    </tr>\n",
       "    <tr>\n",
       "      <th>atemp</th>\n",
       "      <td>0.058766</td>\n",
       "      <td>-0.075694</td>\n",
       "      <td>0.967486</td>\n",
       "      <td>1.000000</td>\n",
       "      <td>-0.143450</td>\n",
       "      <td>-0.031373</td>\n",
       "      <td>0.177862</td>\n",
       "    </tr>\n",
       "    <tr>\n",
       "      <th>humidity</th>\n",
       "      <td>0.018977</td>\n",
       "      <td>0.066021</td>\n",
       "      <td>-0.177841</td>\n",
       "      <td>-0.143450</td>\n",
       "      <td>1.000000</td>\n",
       "      <td>-0.258279</td>\n",
       "      <td>-0.099681</td>\n",
       "    </tr>\n",
       "    <tr>\n",
       "      <th>windspeed</th>\n",
       "      <td>0.001593</td>\n",
       "      <td>0.005113</td>\n",
       "      <td>-0.010263</td>\n",
       "      <td>-0.031373</td>\n",
       "      <td>-0.258279</td>\n",
       "      <td>1.000000</td>\n",
       "      <td>0.026354</td>\n",
       "    </tr>\n",
       "    <tr>\n",
       "      <th>total_booking</th>\n",
       "      <td>-0.006919</td>\n",
       "      <td>0.007593</td>\n",
       "      <td>0.181651</td>\n",
       "      <td>0.177862</td>\n",
       "      <td>-0.099681</td>\n",
       "      <td>0.026354</td>\n",
       "      <td>1.000000</td>\n",
       "    </tr>\n",
       "  </tbody>\n",
       "</table>\n",
       "</div>"
      ],
      "text/plain": [
       "                holiday  workingday      temp     atemp  humidity  windspeed  \\\n",
       "holiday        1.000000   -0.249241  0.060121  0.058766  0.018977   0.001593   \n",
       "workingday    -0.249241    1.000000 -0.061868 -0.075694  0.066021   0.005113   \n",
       "temp           0.060121   -0.061868  1.000000  0.967486 -0.177841  -0.010263   \n",
       "atemp          0.058766   -0.075694  0.967486  1.000000 -0.143450  -0.031373   \n",
       "humidity       0.018977    0.066021 -0.177841 -0.143450  1.000000  -0.258279   \n",
       "windspeed      0.001593    0.005113 -0.010263 -0.031373 -0.258279   1.000000   \n",
       "total_booking -0.006919    0.007593  0.181651  0.177862 -0.099681   0.026354   \n",
       "\n",
       "               total_booking  \n",
       "holiday            -0.006919  \n",
       "workingday          0.007593  \n",
       "temp                0.181651  \n",
       "atemp               0.177862  \n",
       "humidity           -0.099681  \n",
       "windspeed           0.026354  \n",
       "total_booking       1.000000  "
      ]
     },
     "execution_count": 20,
     "metadata": {},
     "output_type": "execute_result"
    }
   ],
   "source": [
    "train1.corr()"
   ]
  },
  {
   "cell_type": "code",
   "execution_count": 21,
   "metadata": {},
   "outputs": [
    {
     "data": {
      "text/html": [
       "<div>\n",
       "<style scoped>\n",
       "    .dataframe tbody tr th:only-of-type {\n",
       "        vertical-align: middle;\n",
       "    }\n",
       "\n",
       "    .dataframe tbody tr th {\n",
       "        vertical-align: top;\n",
       "    }\n",
       "\n",
       "    .dataframe thead th {\n",
       "        text-align: right;\n",
       "    }\n",
       "</style>\n",
       "<table border=\"1\" class=\"dataframe\">\n",
       "  <thead>\n",
       "    <tr style=\"text-align: right;\">\n",
       "      <th></th>\n",
       "      <th>holiday</th>\n",
       "      <th>workingday</th>\n",
       "      <th>temp</th>\n",
       "      <th>atemp</th>\n",
       "      <th>humidity</th>\n",
       "      <th>windspeed</th>\n",
       "      <th>total_booking</th>\n",
       "    </tr>\n",
       "  </thead>\n",
       "  <tbody>\n",
       "    <tr>\n",
       "      <th>holiday</th>\n",
       "      <td>1.000000</td>\n",
       "      <td>-0.253450</td>\n",
       "      <td>0.002162</td>\n",
       "      <td>-0.003962</td>\n",
       "      <td>0.027313</td>\n",
       "      <td>0.009818</td>\n",
       "      <td>-0.009335</td>\n",
       "    </tr>\n",
       "    <tr>\n",
       "      <th>workingday</th>\n",
       "      <td>-0.253450</td>\n",
       "      <td>1.000000</td>\n",
       "      <td>0.020971</td>\n",
       "      <td>0.018524</td>\n",
       "      <td>-0.017540</td>\n",
       "      <td>0.014895</td>\n",
       "      <td>0.008996</td>\n",
       "    </tr>\n",
       "    <tr>\n",
       "      <th>temp</th>\n",
       "      <td>0.002162</td>\n",
       "      <td>0.020971</td>\n",
       "      <td>1.000000</td>\n",
       "      <td>0.988735</td>\n",
       "      <td>-0.058778</td>\n",
       "      <td>0.023065</td>\n",
       "      <td>0.382144</td>\n",
       "    </tr>\n",
       "    <tr>\n",
       "      <th>atemp</th>\n",
       "      <td>-0.003962</td>\n",
       "      <td>0.018524</td>\n",
       "      <td>0.988735</td>\n",
       "      <td>1.000000</td>\n",
       "      <td>-0.040906</td>\n",
       "      <td>-0.010280</td>\n",
       "      <td>0.377821</td>\n",
       "    </tr>\n",
       "    <tr>\n",
       "      <th>humidity</th>\n",
       "      <td>0.027313</td>\n",
       "      <td>-0.017540</td>\n",
       "      <td>-0.058778</td>\n",
       "      <td>-0.040906</td>\n",
       "      <td>1.000000</td>\n",
       "      <td>-0.310934</td>\n",
       "      <td>-0.353767</td>\n",
       "    </tr>\n",
       "    <tr>\n",
       "      <th>windspeed</th>\n",
       "      <td>0.009818</td>\n",
       "      <td>0.014895</td>\n",
       "      <td>0.023065</td>\n",
       "      <td>-0.010280</td>\n",
       "      <td>-0.310934</td>\n",
       "      <td>1.000000</td>\n",
       "      <td>0.138743</td>\n",
       "    </tr>\n",
       "    <tr>\n",
       "      <th>total_booking</th>\n",
       "      <td>-0.009335</td>\n",
       "      <td>0.008996</td>\n",
       "      <td>0.382144</td>\n",
       "      <td>0.377821</td>\n",
       "      <td>-0.353767</td>\n",
       "      <td>0.138743</td>\n",
       "      <td>1.000000</td>\n",
       "    </tr>\n",
       "  </tbody>\n",
       "</table>\n",
       "</div>"
      ],
      "text/plain": [
       "                holiday  workingday      temp     atemp  humidity  windspeed  \\\n",
       "holiday        1.000000   -0.253450  0.002162 -0.003962  0.027313   0.009818   \n",
       "workingday    -0.253450    1.000000  0.020971  0.018524 -0.017540   0.014895   \n",
       "temp           0.002162    0.020971  1.000000  0.988735 -0.058778   0.023065   \n",
       "atemp         -0.003962    0.018524  0.988735  1.000000 -0.040906  -0.010280   \n",
       "humidity       0.027313   -0.017540 -0.058778 -0.040906  1.000000  -0.310934   \n",
       "windspeed      0.009818    0.014895  0.023065 -0.010280 -0.310934   1.000000   \n",
       "total_booking -0.009335    0.008996  0.382144  0.377821 -0.353767   0.138743   \n",
       "\n",
       "               total_booking  \n",
       "holiday            -0.009335  \n",
       "workingday          0.008996  \n",
       "temp                0.382144  \n",
       "atemp               0.377821  \n",
       "humidity           -0.353767  \n",
       "windspeed           0.138743  \n",
       "total_booking       1.000000  "
      ]
     },
     "execution_count": 21,
     "metadata": {},
     "output_type": "execute_result"
    }
   ],
   "source": [
    "test.corr()"
   ]
  },
  {
   "cell_type": "markdown",
   "metadata": {},
   "source": [
    "# FEATURE ENGINEERING"
   ]
  },
  {
   "cell_type": "raw",
   "metadata": {},
   "source": [
    "#split the date into hour,date,weekday,month"
   ]
  },
  {
   "cell_type": "code",
   "execution_count": 22,
   "metadata": {},
   "outputs": [
    {
     "name": "stderr",
     "output_type": "stream",
     "text": [
      "<ipython-input-22-8cbbf26aec6f>:1: SettingWithCopyWarning: \n",
      "A value is trying to be set on a copy of a slice from a DataFrame.\n",
      "Try using .loc[row_indexer,col_indexer] = value instead\n",
      "\n",
      "See the caveats in the documentation: https://pandas.pydata.org/pandas-docs/stable/user_guide/indexing.html#returning-a-view-versus-a-copy\n",
      "  train1[\"hour\"]=train1[\"datetime\"].apply(lambda x:x.split(\" \")[1])\n",
      "<ipython-input-22-8cbbf26aec6f>:2: SettingWithCopyWarning: \n",
      "A value is trying to be set on a copy of a slice from a DataFrame.\n",
      "Try using .loc[row_indexer,col_indexer] = value instead\n",
      "\n",
      "See the caveats in the documentation: https://pandas.pydata.org/pandas-docs/stable/user_guide/indexing.html#returning-a-view-versus-a-copy\n",
      "  train1[\"date\"]=train1[\"datetime\"].apply(lambda x:x.split(\" \")[0])\n",
      "<ipython-input-22-8cbbf26aec6f>:3: SettingWithCopyWarning: \n",
      "A value is trying to be set on a copy of a slice from a DataFrame.\n",
      "Try using .loc[row_indexer,col_indexer] = value instead\n",
      "\n",
      "See the caveats in the documentation: https://pandas.pydata.org/pandas-docs/stable/user_guide/indexing.html#returning-a-view-versus-a-copy\n",
      "  train1[\"weekday\"]=train1[\"date\"].apply(lambda datestring: calendar.day_name[datetime.strptime(datestring,\"%m/%d/%Y\").weekday()])\n",
      "<ipython-input-22-8cbbf26aec6f>:4: SettingWithCopyWarning: \n",
      "A value is trying to be set on a copy of a slice from a DataFrame.\n",
      "Try using .loc[row_indexer,col_indexer] = value instead\n",
      "\n",
      "See the caveats in the documentation: https://pandas.pydata.org/pandas-docs/stable/user_guide/indexing.html#returning-a-view-versus-a-copy\n",
      "  train1[\"month\"]=train1[\"date\"].apply(lambda datestring: calendar.month_name[datetime.strptime(datestring,\"%m/%d/%Y\").month])\n"
     ]
    }
   ],
   "source": [
    "train1[\"hour\"]=train1[\"datetime\"].apply(lambda x:x.split(\" \")[1])\n",
    "train1[\"date\"]=train1[\"datetime\"].apply(lambda x:x.split(\" \")[0])\n",
    "train1[\"weekday\"]=train1[\"date\"].apply(lambda datestring: calendar.day_name[datetime.strptime(datestring,\"%m/%d/%Y\").weekday()])\n",
    "train1[\"month\"]=train1[\"date\"].apply(lambda datestring: calendar.month_name[datetime.strptime(datestring,\"%m/%d/%Y\").month])"
   ]
  },
  {
   "cell_type": "code",
   "execution_count": 23,
   "metadata": {},
   "outputs": [
    {
     "name": "stderr",
     "output_type": "stream",
     "text": [
      "<ipython-input-23-da28c1e3b222>:1: SettingWithCopyWarning: \n",
      "A value is trying to be set on a copy of a slice from a DataFrame.\n",
      "Try using .loc[row_indexer,col_indexer] = value instead\n",
      "\n",
      "See the caveats in the documentation: https://pandas.pydata.org/pandas-docs/stable/user_guide/indexing.html#returning-a-view-versus-a-copy\n",
      "  test1[\"hour\"]=test1[\"datetime\"].apply(lambda x:x.split(\" \")[1])\n",
      "<ipython-input-23-da28c1e3b222>:2: SettingWithCopyWarning: \n",
      "A value is trying to be set on a copy of a slice from a DataFrame.\n",
      "Try using .loc[row_indexer,col_indexer] = value instead\n",
      "\n",
      "See the caveats in the documentation: https://pandas.pydata.org/pandas-docs/stable/user_guide/indexing.html#returning-a-view-versus-a-copy\n",
      "  test1[\"date\"]=test1[\"datetime\"].apply(lambda x:x.split(\" \")[0])\n",
      "<ipython-input-23-da28c1e3b222>:3: SettingWithCopyWarning: \n",
      "A value is trying to be set on a copy of a slice from a DataFrame.\n",
      "Try using .loc[row_indexer,col_indexer] = value instead\n",
      "\n",
      "See the caveats in the documentation: https://pandas.pydata.org/pandas-docs/stable/user_guide/indexing.html#returning-a-view-versus-a-copy\n",
      "  test1[\"weekday\"]=test1[\"date\"].apply(lambda datestring: calendar.day_name[datetime.strptime(datestring,\"%m/%d/%Y\").weekday()])\n",
      "<ipython-input-23-da28c1e3b222>:4: SettingWithCopyWarning: \n",
      "A value is trying to be set on a copy of a slice from a DataFrame.\n",
      "Try using .loc[row_indexer,col_indexer] = value instead\n",
      "\n",
      "See the caveats in the documentation: https://pandas.pydata.org/pandas-docs/stable/user_guide/indexing.html#returning-a-view-versus-a-copy\n",
      "  test1[\"month\"]=test1[\"date\"].apply(lambda datestring: calendar.month_name[datetime.strptime(datestring,\"%m/%d/%Y\").month])\n"
     ]
    }
   ],
   "source": [
    "test1[\"hour\"]=test1[\"datetime\"].apply(lambda x:x.split(\" \")[1])\n",
    "test1[\"date\"]=test1[\"datetime\"].apply(lambda x:x.split(\" \")[0])\n",
    "test1[\"weekday\"]=test1[\"date\"].apply(lambda datestring: calendar.day_name[datetime.strptime(datestring,\"%m/%d/%Y\").weekday()])\n",
    "test1[\"month\"]=test1[\"date\"].apply(lambda datestring: calendar.month_name[datetime.strptime(datestring,\"%m/%d/%Y\").month])"
   ]
  },
  {
   "cell_type": "raw",
   "metadata": {},
   "source": [
    "#remove the datetime from dataset"
   ]
  },
  {
   "cell_type": "code",
   "execution_count": 24,
   "metadata": {},
   "outputs": [
    {
     "name": "stderr",
     "output_type": "stream",
     "text": [
      "C:\\Users\\Admin\\anaconda3\\lib\\site-packages\\pandas\\core\\frame.py:4163: SettingWithCopyWarning: \n",
      "A value is trying to be set on a copy of a slice from a DataFrame\n",
      "\n",
      "See the caveats in the documentation: https://pandas.pydata.org/pandas-docs/stable/user_guide/indexing.html#returning-a-view-versus-a-copy\n",
      "  return super().drop(\n"
     ]
    }
   ],
   "source": [
    "train1.drop(\"datetime\",axis=1,inplace=True)"
   ]
  },
  {
   "cell_type": "code",
   "execution_count": 25,
   "metadata": {},
   "outputs": [],
   "source": [
    "test1.drop(\"datetime\",axis=1,inplace=True)"
   ]
  },
  {
   "cell_type": "raw",
   "metadata": {},
   "source": [
    "#separate the catagorical and numerical data"
   ]
  },
  {
   "cell_type": "code",
   "execution_count": 26,
   "metadata": {},
   "outputs": [],
   "source": [
    "train1_cat=[col for col in train1.columns if train1[col].dtypes == \"O\"]\n",
    "test1_cat=[col for col in test1.columns if test1[col].dtypes == \"O\"]"
   ]
  },
  {
   "cell_type": "code",
   "execution_count": 27,
   "metadata": {},
   "outputs": [],
   "source": [
    "train1_num=[col for col in train1.columns if train1[col].dtypes == \"int64\" or train1[col].dtypes == \"float64\"]\n",
    "test1_num=[col for col in test1.columns if test1[col].dtypes == \"int64\" or train1[col].dtypes == \"float64\"]"
   ]
  },
  {
   "cell_type": "code",
   "execution_count": 28,
   "metadata": {},
   "outputs": [],
   "source": [
    "train1_cat=['season', 'weather', 'weekday', 'month']\n",
    "test1_cat=['season', 'weather', 'weekday', 'month']"
   ]
  },
  {
   "cell_type": "code",
   "execution_count": 29,
   "metadata": {},
   "outputs": [],
   "source": [
    "train1_num=['holiday','workingday','temp','atemp','humidity','windspeed']\n",
    "test1_num=['holiday','workingday','temp','atemp','humidity','windspeed']"
   ]
  },
  {
   "cell_type": "raw",
   "metadata": {},
   "source": [
    "#get the dummies for catagorical data"
   ]
  },
  {
   "cell_type": "code",
   "execution_count": 30,
   "metadata": {},
   "outputs": [],
   "source": [
    "train_cat_get=pd.get_dummies(train1[train1_cat])\n",
    "test_cat_get=pd.get_dummies(test1[test1_cat])"
   ]
  },
  {
   "cell_type": "code",
   "execution_count": 31,
   "metadata": {},
   "outputs": [
    {
     "name": "stderr",
     "output_type": "stream",
     "text": [
      "<ipython-input-31-b0a60fed0eef>:3: SettingWithCopyWarning: \n",
      "A value is trying to be set on a copy of a slice from a DataFrame.\n",
      "Try using .loc[row_indexer,col_indexer] = value instead\n",
      "\n",
      "See the caveats in the documentation: https://pandas.pydata.org/pandas-docs/stable/user_guide/indexing.html#returning-a-view-versus-a-copy\n",
      "  train1[train1_num]=scaler.fit_transform(train1[train1_num])\n",
      "C:\\Users\\Admin\\anaconda3\\lib\\site-packages\\pandas\\core\\indexing.py:1736: SettingWithCopyWarning: \n",
      "A value is trying to be set on a copy of a slice from a DataFrame.\n",
      "Try using .loc[row_indexer,col_indexer] = value instead\n",
      "\n",
      "See the caveats in the documentation: https://pandas.pydata.org/pandas-docs/stable/user_guide/indexing.html#returning-a-view-versus-a-copy\n",
      "  isetter(loc, value[:, i].tolist())\n",
      "<ipython-input-31-b0a60fed0eef>:4: SettingWithCopyWarning: \n",
      "A value is trying to be set on a copy of a slice from a DataFrame.\n",
      "Try using .loc[row_indexer,col_indexer] = value instead\n",
      "\n",
      "See the caveats in the documentation: https://pandas.pydata.org/pandas-docs/stable/user_guide/indexing.html#returning-a-view-versus-a-copy\n",
      "  test1[test1_num]=scaler.fit_transform(test1[test1_num])\n",
      "C:\\Users\\Admin\\anaconda3\\lib\\site-packages\\pandas\\core\\indexing.py:1736: SettingWithCopyWarning: \n",
      "A value is trying to be set on a copy of a slice from a DataFrame.\n",
      "Try using .loc[row_indexer,col_indexer] = value instead\n",
      "\n",
      "See the caveats in the documentation: https://pandas.pydata.org/pandas-docs/stable/user_guide/indexing.html#returning-a-view-versus-a-copy\n",
      "  isetter(loc, value[:, i].tolist())\n"
     ]
    }
   ],
   "source": [
    "from sklearn import preprocessing\n",
    "scaler=preprocessing.StandardScaler()\n",
    "train1[train1_num]=scaler.fit_transform(train1[train1_num])\n",
    "test1[test1_num]=scaler.fit_transform(test1[test1_num])"
   ]
  },
  {
   "cell_type": "code",
   "execution_count": 32,
   "metadata": {},
   "outputs": [
    {
     "name": "stderr",
     "output_type": "stream",
     "text": [
      "C:\\Users\\Admin\\anaconda3\\lib\\site-packages\\pandas\\core\\frame.py:4163: SettingWithCopyWarning: \n",
      "A value is trying to be set on a copy of a slice from a DataFrame\n",
      "\n",
      "See the caveats in the documentation: https://pandas.pydata.org/pandas-docs/stable/user_guide/indexing.html#returning-a-view-versus-a-copy\n",
      "  return super().drop(\n"
     ]
    }
   ],
   "source": [
    "train1.drop(train1_cat,axis=1,inplace=True)\n",
    "test1.drop(test1_cat,axis=1,inplace=True)"
   ]
  },
  {
   "cell_type": "code",
   "execution_count": 33,
   "metadata": {},
   "outputs": [],
   "source": [
    "train1=pd.concat([train1,train_cat_get],axis=1)\n",
    "test1=pd.concat([test1,test_cat_get],axis=1)"
   ]
  },
  {
   "cell_type": "code",
   "execution_count": 34,
   "metadata": {},
   "outputs": [],
   "source": [
    "train_x=train1.drop([\"hour\",\"total_booking\",\"date\"],axis=1)\n",
    "train_y=train1[\"total_booking\"]\n",
    "test_x=test1.drop([\"hour\",\"total_booking\",\"date\"],axis=1)\n",
    "test_y=test1[\"total_booking\"]"
   ]
  },
  {
   "cell_type": "code",
   "execution_count": 35,
   "metadata": {},
   "outputs": [],
   "source": [
    "from sklearn.model_selection import GridSearchCV\n",
    "from sklearn.linear_model import LogisticRegression\n",
    "from sklearn.svm import SVC\n",
    "from sklearn.linear_model import Ridge\n",
    "from sklearn.linear_model import LinearRegression\n",
    "from sklearn.linear_model import Lasso"
   ]
  },
  {
   "cell_type": "markdown",
   "metadata": {},
   "source": [
    "# multiple models"
   ]
  },
  {
   "cell_type": "code",
   "execution_count": 36,
   "metadata": {},
   "outputs": [],
   "source": [
    "models={\n",
    "    \"svm\":{\"model\":SVC(gamma=\"auto\"),\n",
    "           \"param\":{\n",
    "                         \"C\":[1,10,20],\n",
    "                         \"kernel\":[\"rbf\",\"linear\"]\n",
    "                        }\n",
    "           },\n",
    "     \"LogisticRegression\":{\"model\":LogisticRegression(solver=\"liblinear\"),\n",
    "                         \"param\":{\n",
    "                                 \"C\":[1,5,10]\n",
    "                                 }\n",
    "                         },\n",
    "      \"Ridge\":{\"model\":Ridge(),\n",
    "                           \"param\":{\"alpha\":[0,1,5,10,15,20.30,40,50]}\n",
    "                         },\n",
    "      \"LinearRegression\":{\"model\":LinearRegression(),\n",
    "                          \"param\":{\"fit_intercept\":[True,False]}\n",
    "                          },\n",
    "       \"Lasso\":{\"model\":Lasso(),\n",
    "                \"param\":{\"alpha\":[0,1,5,10,15,20.30,40,50]}\n",
    "               }\n",
    "}"
   ]
  },
  {
   "cell_type": "markdown",
   "metadata": {},
   "source": [
    "# grid search"
   ]
  },
  {
   "cell_type": "code",
   "execution_count": 37,
   "metadata": {},
   "outputs": [
    {
     "name": "stderr",
     "output_type": "stream",
     "text": [
      "C:\\Users\\Admin\\anaconda3\\lib\\site-packages\\sklearn\\model_selection\\_split.py:670: UserWarning: The least populated class in y has only 1 members, which is less than n_splits=2.\n",
      "  warnings.warn((\"The least populated class in y has only %d\"\n"
     ]
    },
    {
     "name": "stdout",
     "output_type": "stream",
     "text": [
      "[{'model': 'svm', 'score': 0.00407405661489146, 'param': {'C': 20, 'kernel': 'rbf'}}]\n"
     ]
    },
    {
     "name": "stderr",
     "output_type": "stream",
     "text": [
      "C:\\Users\\Admin\\anaconda3\\lib\\site-packages\\sklearn\\model_selection\\_split.py:670: UserWarning: The least populated class in y has only 1 members, which is less than n_splits=2.\n",
      "  warnings.warn((\"The least populated class in y has only %d\"\n"
     ]
    },
    {
     "name": "stdout",
     "output_type": "stream",
     "text": [
      "[{'model': 'svm', 'score': 0.00407405661489146, 'param': {'C': 20, 'kernel': 'rbf'}}, {'model': 'LogisticRegression', 'score': 0.005014299070560413, 'param': {'C': 1}}]\n",
      "[{'model': 'svm', 'score': 0.00407405661489146, 'param': {'C': 20, 'kernel': 'rbf'}}, {'model': 'LogisticRegression', 'score': 0.005014299070560413, 'param': {'C': 1}}, {'model': 'Ridge', 'score': 0.04171740664968088, 'param': {'alpha': 50}}]\n",
      "[{'model': 'svm', 'score': 0.00407405661489146, 'param': {'C': 20, 'kernel': 'rbf'}}, {'model': 'LogisticRegression', 'score': 0.005014299070560413, 'param': {'C': 1}}, {'model': 'Ridge', 'score': 0.04171740664968088, 'param': {'alpha': 50}}, {'model': 'LinearRegression', 'score': 0.03582065760198572, 'param': {'fit_intercept': False}}]\n"
     ]
    },
    {
     "name": "stderr",
     "output_type": "stream",
     "text": [
      "C:\\Users\\Admin\\anaconda3\\lib\\site-packages\\sklearn\\model_selection\\_validation.py:531: UserWarning: With alpha=0, this algorithm does not converge well. You are advised to use the LinearRegression estimator\n",
      "  estimator.fit(X_train, y_train, **fit_params)\n",
      "C:\\Users\\Admin\\anaconda3\\lib\\site-packages\\sklearn\\linear_model\\_coordinate_descent.py:529: UserWarning: Coordinate descent with no regularization may lead to unexpected results and is discouraged.\n",
      "  model = cd_fast.enet_coordinate_descent(\n",
      "C:\\Users\\Admin\\anaconda3\\lib\\site-packages\\sklearn\\linear_model\\_coordinate_descent.py:529: ConvergenceWarning: Objective did not converge. You might want to increase the number of iterations. Duality gap: 16885194.70152116, tolerance: 3604.4332304702193\n",
      "  model = cd_fast.enet_coordinate_descent(\n",
      "C:\\Users\\Admin\\anaconda3\\lib\\site-packages\\sklearn\\model_selection\\_validation.py:531: UserWarning: With alpha=0, this algorithm does not converge well. You are advised to use the LinearRegression estimator\n",
      "  estimator.fit(X_train, y_train, **fit_params)\n",
      "C:\\Users\\Admin\\anaconda3\\lib\\site-packages\\sklearn\\linear_model\\_coordinate_descent.py:529: UserWarning: Coordinate descent with no regularization may lead to unexpected results and is discouraged.\n",
      "  model = cd_fast.enet_coordinate_descent(\n",
      "C:\\Users\\Admin\\anaconda3\\lib\\site-packages\\sklearn\\linear_model\\_coordinate_descent.py:529: ConvergenceWarning: Objective did not converge. You might want to increase the number of iterations. Duality gap: 17335641.0703649, tolerance: 3751.017441102757\n",
      "  model = cd_fast.enet_coordinate_descent(\n"
     ]
    },
    {
     "name": "stdout",
     "output_type": "stream",
     "text": [
      "[{'model': 'svm', 'score': 0.00407405661489146, 'param': {'C': 20, 'kernel': 'rbf'}}, {'model': 'LogisticRegression', 'score': 0.005014299070560413, 'param': {'C': 1}}, {'model': 'Ridge', 'score': 0.04171740664968088, 'param': {'alpha': 50}}, {'model': 'LinearRegression', 'score': 0.03582065760198572, 'param': {'fit_intercept': False}}, {'model': 'Lasso', 'score': 0.04023714799862471, 'param': {'alpha': 1}}]\n"
     ]
    }
   ],
   "source": [
    "score=[]\n",
    "for ir,name in models.items():\n",
    "    clf=GridSearchCV(name[\"model\"],name[\"param\"],cv=2)\n",
    "    clf.fit(train_x,train_y)\n",
    "    score.append({\"model\":ir,\"score\":clf.best_score_,\"param\":clf.best_params_})\n",
    "    print(score)"
   ]
  },
  {
   "cell_type": "code",
   "execution_count": 40,
   "metadata": {},
   "outputs": [
    {
     "data": {
      "text/html": [
       "<div>\n",
       "<style scoped>\n",
       "    .dataframe tbody tr th:only-of-type {\n",
       "        vertical-align: middle;\n",
       "    }\n",
       "\n",
       "    .dataframe tbody tr th {\n",
       "        vertical-align: top;\n",
       "    }\n",
       "\n",
       "    .dataframe thead th {\n",
       "        text-align: right;\n",
       "    }\n",
       "</style>\n",
       "<table border=\"1\" class=\"dataframe\">\n",
       "  <thead>\n",
       "    <tr style=\"text-align: right;\">\n",
       "      <th></th>\n",
       "      <th>model</th>\n",
       "      <th>score</th>\n",
       "      <th>param</th>\n",
       "    </tr>\n",
       "  </thead>\n",
       "  <tbody>\n",
       "    <tr>\n",
       "      <th>0</th>\n",
       "      <td>svm</td>\n",
       "      <td>0.004074</td>\n",
       "      <td>{'C': 20, 'kernel': 'rbf'}</td>\n",
       "    </tr>\n",
       "    <tr>\n",
       "      <th>1</th>\n",
       "      <td>LogisticRegression</td>\n",
       "      <td>0.005014</td>\n",
       "      <td>{'C': 1}</td>\n",
       "    </tr>\n",
       "    <tr>\n",
       "      <th>2</th>\n",
       "      <td>Ridge</td>\n",
       "      <td>0.041717</td>\n",
       "      <td>{'alpha': 50}</td>\n",
       "    </tr>\n",
       "    <tr>\n",
       "      <th>3</th>\n",
       "      <td>LinearRegression</td>\n",
       "      <td>0.035821</td>\n",
       "      <td>{'fit_intercept': False}</td>\n",
       "    </tr>\n",
       "    <tr>\n",
       "      <th>4</th>\n",
       "      <td>Lasso</td>\n",
       "      <td>0.040237</td>\n",
       "      <td>{'alpha': 1}</td>\n",
       "    </tr>\n",
       "  </tbody>\n",
       "</table>\n",
       "</div>"
      ],
      "text/plain": [
       "                model     score                       param\n",
       "0                 svm  0.004074  {'C': 20, 'kernel': 'rbf'}\n",
       "1  LogisticRegression  0.005014                    {'C': 1}\n",
       "2               Ridge  0.041717               {'alpha': 50}\n",
       "3    LinearRegression  0.035821    {'fit_intercept': False}\n",
       "4               Lasso  0.040237                {'alpha': 1}"
      ]
     },
     "execution_count": 40,
     "metadata": {},
     "output_type": "execute_result"
    }
   ],
   "source": [
    "pd.DataFrame(score)"
   ]
  },
  {
   "cell_type": "markdown",
   "metadata": {},
   "source": [
    "# ensembling methods"
   ]
  },
  {
   "cell_type": "code",
   "execution_count": 42,
   "metadata": {},
   "outputs": [],
   "source": [
    "from sklearn.ensemble import RandomForestRegressor\n",
    "regressor=RandomForestRegressor(n_estimators=100,random_state=0).fit(train_x,train_y)\n",
    "result=regressor.predict(test_x)"
   ]
  },
  {
   "cell_type": "code",
   "execution_count": 54,
   "metadata": {},
   "outputs": [
    {
     "data": {
      "text/plain": [
       "array([405.90166667, 397.        , 327.02      , 402.22916667,\n",
       "       603.97      , 599.94      , 301.04      , 333.33      ,\n",
       "       381.63333333, 452.77      , 277.55      , 402.72      ,\n",
       "       476.51      , 393.95833333, 295.92333333, 369.06583333,\n",
       "       383.33      , 343.07      , 711.62083333, 407.42      ,\n",
       "       388.632     , 391.09      , 448.76666667, 337.75      ,\n",
       "       322.46      , 395.92875   , 440.38      , 395.894     ,\n",
       "       483.35      , 481.56      , 311.09      , 276.99      ,\n",
       "       418.26      , 318.25      , 470.92      , 356.83433333,\n",
       "       348.5       , 328.57      , 351.75666667, 367.05      ,\n",
       "       286.88      , 489.28      , 458.71      , 439.32916667,\n",
       "       335.915     , 337.18      , 481.61166667, 397.96      ,\n",
       "       402.17666667, 480.88666667, 336.95      , 345.51333333,\n",
       "       324.15      , 367.71833333, 490.46166667, 394.9       ,\n",
       "       376.285     , 381.05      , 407.74933333, 373.89      ,\n",
       "       316.03333333, 337.13      , 383.22833333, 434.29833333,\n",
       "       354.79      , 524.35      , 451.91466667, 282.66333333,\n",
       "       469.69      , 285.3       , 363.32      , 427.84      ,\n",
       "       413.304     , 331.35      , 365.48      , 303.82      ,\n",
       "       322.3425    , 443.06466667, 436.74733333, 358.905     ,\n",
       "       475.64666667, 352.95      , 370.93      , 489.21      ,\n",
       "       342.45      , 354.255     , 417.86      , 327.78      ,\n",
       "       327.53      , 319.41      , 397.586     , 376.725     ,\n",
       "       366.57      , 355.10583333, 356.49      , 331.71      ,\n",
       "       409.90975   , 342.58      , 270.144     , 304.415     ,\n",
       "       413.47      , 509.52      , 429.61166667, 320.80166667,\n",
       "       385.13      , 433.44      , 427.05333333, 322.57      ,\n",
       "       393.875     , 506.4675    , 420.07166667, 350.79      ,\n",
       "       385.40833333, 341.35      , 340.60083333, 353.11666667,\n",
       "       328.64      , 234.73      , 424.39333333, 365.142     ,\n",
       "       439.88      , 327.79666667, 524.83      , 400.32      ,\n",
       "       304.78166667, 470.42      , 402.33333333, 386.8       ,\n",
       "       359.5       , 411.35766667, 375.7015    , 402.02      ,\n",
       "       407.14      , 349.485     , 334.37      , 328.667     ,\n",
       "       516.93633333, 353.91      , 301.19533333, 412.39314286,\n",
       "       348.31      , 432.43      , 445.52333333, 362.3       ,\n",
       "       444.60333333, 456.96      , 272.725     , 320.12      ,\n",
       "       606.45      , 378.409     , 461.17      , 342.70833333,\n",
       "       432.34      , 292.23666667, 395.92875   , 339.68066667,\n",
       "       304.26      , 319.5825    , 405.04495238, 442.05      ,\n",
       "       345.16      , 317.82666667, 319.19      , 286.258     ,\n",
       "       289.48833333, 382.546     , 347.28      , 470.16      ,\n",
       "       385.90630952, 554.48      , 434.44      , 397.51642857,\n",
       "       365.21      , 299.9235    , 372.095     , 266.51      ,\n",
       "       411.54578571, 488.16      , 411.955     , 340.67      ,\n",
       "       400.85      , 480.53      , 469.44416667, 330.7845    ,\n",
       "       447.03666667, 481.465     , 419.54333333, 310.72      ,\n",
       "       351.895     , 382.86      , 368.4555    , 297.52      ,\n",
       "       517.81333333, 307.422     , 431.56      , 541.669     ,\n",
       "       436.34      , 348.61666667, 425.56      , 387.62166667,\n",
       "       493.922     , 417.69333333, 387.08      , 387.0775    ,\n",
       "       521.698     , 253.33      , 345.15      , 414.35      ,\n",
       "       563.19      , 346.984     , 299.85333333, 449.72      ,\n",
       "       598.09      , 337.744     , 359.69      , 352.79      ,\n",
       "       352.99      , 260.33      , 446.28988095, 353.2       ,\n",
       "       370.03      , 402.52166667, 269.7       , 281.06733333,\n",
       "       290.66      , 604.12      , 377.24      , 413.89      ,\n",
       "       506.5       , 295.28833333, 360.71      , 307.2725    ,\n",
       "       531.39      , 430.5575    , 341.2       , 331.36      ,\n",
       "       312.22      , 440.81      , 434.345     , 389.63      ,\n",
       "       404.42      , 334.6675    , 307.22      , 584.87      ,\n",
       "       274.26      , 425.71      , 406.62      , 392.96833333,\n",
       "       307.556     , 375.61      , 389.665     , 481.132     ,\n",
       "       320.175     , 380.33      , 480.64833333, 464.9545    ,\n",
       "       476.67083333, 376.88      , 593.92      , 289.94      ,\n",
       "       613.7625    , 470.994     , 374.84964286, 310.38166667,\n",
       "       249.59      , 443.92      , 342.295     , 675.68666667,\n",
       "       413.576     , 514.32      , 343.54      , 324.72      ,\n",
       "       412.48      , 429.67666667, 341.68      , 461.4045    ,\n",
       "       416.38      , 338.09266667, 266.6       , 426.906     ,\n",
       "       422.12533333, 355.1275    , 306.55333333, 403.2       ,\n",
       "       379.56333333, 363.16      , 475.06666667, 311.96      ,\n",
       "       397.95333333, 332.16333333, 462.235     , 346.74      ,\n",
       "       405.205     , 401.5315    , 376.47      , 462.31166667,\n",
       "       405.35      , 311.13666667, 343.67      , 390.09      ,\n",
       "       384.06      , 380.28866667, 314.18666667, 369.80345238,\n",
       "       435.59666667, 301.84      , 320.08666667, 435.41995238,\n",
       "       402.05666667, 278.465     , 352.25166667, 269.632     ,\n",
       "       358.70457143, 331.35333333, 292.92      , 550.803     ,\n",
       "       422.98      , 276.07      , 334.115     , 596.1825    ,\n",
       "       583.19      , 386.11966667, 516.18      , 459.399     ,\n",
       "       505.58      , 268.59      , 351.535     , 407.91      ,\n",
       "       417.98333333, 324.04166667, 487.27866667, 326.65      ,\n",
       "       566.33      , 365.74833333, 586.11333333, 401.24      ,\n",
       "       350.255     , 441.0505    , 455.68      , 425.72      ,\n",
       "       520.21      , 387.52      , 281.03      , 412.88      ,\n",
       "       418.37333333, 343.37333333, 408.52166667, 521.335     ,\n",
       "       412.37      , 361.79      , 423.64      , 379.1       ,\n",
       "       424.89383333, 379.30666667, 437.64883333, 340.64      ,\n",
       "       300.585     , 312.975     , 356.67666667, 323.55      ,\n",
       "       348.59      , 313.12333333, 471.71      , 400.88      ,\n",
       "       410.03333333, 576.89      , 293.5       , 263.37      ,\n",
       "       383.95766667, 321.85      , 416.04      , 360.7775    ,\n",
       "       537.46      , 487.3       , 420.17      , 309.26166667,\n",
       "       406.966     , 364.554     , 496.99      , 411.425     ,\n",
       "       413.56      , 301.34      , 362.42333333, 533.285     ,\n",
       "       341.43      , 416.48      , 320.805     , 437.73      ,\n",
       "       415.84      , 519.382     , 409.73      , 362.4625    ,\n",
       "       311.895     , 481.42      , 439.27      , 295.95      ,\n",
       "       358.822     , 385.55      , 554.11      , 368.56714286,\n",
       "       460.94166667, 317.03      , 400.16      , 321.2575    ,\n",
       "       408.06416667, 410.31      , 472.35      , 502.36      ,\n",
       "       312.57666667, 320.32333333, 362.80033333, 424.408     ,\n",
       "       617.39      , 390.5       , 431.41      , 316.29      ,\n",
       "       358.84666667, 288.95      , 450.445     , 413.075     ,\n",
       "       541.035     , 352.3485    , 534.97066667, 355.59      ,\n",
       "       364.02      , 343.13      , 283.85      , 368.457     ,\n",
       "       286.66      , 274.265     , 379.51      , 360.515     ,\n",
       "       367.66      , 519.29      , 350.105     , 386.745     ,\n",
       "       310.785     , 547.11      , 363.92      , 397.29      ,\n",
       "       368.70066667, 312.69      , 346.42666667, 322.122     ,\n",
       "       366.93      , 350.8225    , 322.285     , 382.52733333,\n",
       "       378.04583333, 247.01      , 544.11      , 324.33666667,\n",
       "       500.69      , 405.09      , 402.57433333, 323.18      ,\n",
       "       561.90333333, 422.93833333, 338.33      , 331.26      ,\n",
       "       351.26      , 303.06      , 431.53      , 293.41666667,\n",
       "       536.55      , 479.12      , 392.196     , 330.67666667,\n",
       "       362.13      , 545.92      , 508.76766667, 438.77      ,\n",
       "       300.605     , 387.19333333, 407.83      , 394.71      ,\n",
       "       390.45      , 525.48      , 598.91      , 540.14933333,\n",
       "       294.48      , 364.9       , 389.83      , 363.12      ,\n",
       "       298.865     , 407.974     , 272.58      , 394.34      ,\n",
       "       258.39      , 348.10333333, 308.305     , 339.34283333,\n",
       "       362.03      , 416.2075    , 440.77      , 319.84      ,\n",
       "       506.445     , 291.25      , 366.18      , 382.16466667,\n",
       "       487.855     , 552.2       , 403.76125   , 329.48333333,\n",
       "       373.6475    , 336.34      , 514.585     , 328.07183333,\n",
       "       370.809     , 411.15      , 345.25      , 296.172     ,\n",
       "       405.23666667, 402.56566667, 339.65      , 366.105     ,\n",
       "       323.11      , 389.22      , 357.52      , 523.80616667,\n",
       "       301.41666667, 323.145     , 402.53833333, 326.99516667,\n",
       "       527.32333333, 405.75      , 303.67333333, 548.89      ,\n",
       "       402.7       , 438.4       , 484.79166667, 422.06875   ,\n",
       "       297.75833333, 401.115     , 432.97333333, 266.98      ,\n",
       "       417.315     , 297.24666667, 463.1       , 399.9825    ,\n",
       "       424.38      , 371.61      , 373.09      , 372.28566667,\n",
       "       338.775     , 345.19      , 402.68      , 365.09261905,\n",
       "       403.24      , 300.97666667, 355.96866667, 380.72      ,\n",
       "       367.53      , 461.89      , 372.585     , 359.75575   ,\n",
       "       334.6       , 375.588     , 448.42      , 393.31      ,\n",
       "       333.19033333, 351.67      , 341.23      , 315.81      ,\n",
       "       327.10533333, 438.68      , 403.635     , 462.24933333,\n",
       "       358.49166667, 396.12333333, 269.29      , 501.97      ,\n",
       "       420.37      , 367.35083333, 364.955     , 524.48333333,\n",
       "       424.72      , 281.11      , 503.73      , 307.955     ,\n",
       "       446.27666667, 397.36      , 400.65166667, 579.252     ,\n",
       "       604.34      , 350.64      , 373.115     , 275.61333333,\n",
       "       405.06321429, 579.09166667, 259.62      , 316.84666667,\n",
       "       398.01      , 391.35      , 300.86      , 373.33666667,\n",
       "       374.97333333, 547.00166667, 356.4       , 421.245     ,\n",
       "       502.28      , 653.36      , 405.68928571, 516.78      ,\n",
       "       369.71      , 276.63      , 349.838     , 431.27      ,\n",
       "       422.23      , 342.385     , 508.06      , 329.48333333,\n",
       "       325.705     , 374.        , 397.74      , 416.56      ,\n",
       "       329.7       , 403.255     , 369.22      , 393.88666667,\n",
       "       392.216     , 414.06533333, 408.61      , 391.618     ,\n",
       "       354.20666667, 440.34      , 363.61      , 304.45      ,\n",
       "       268.18      , 350.45      , 348.635     , 342.16      ,\n",
       "       336.766     , 334.49      , 335.96      , 464.7525    ,\n",
       "       492.42666667, 454.71666667, 393.1       , 339.41      ,\n",
       "       388.16266667, 330.846     , 435.851     , 310.77      ,\n",
       "       299.95233333, 391.44333333, 338.29214286, 362.01066667,\n",
       "       282.05433333, 406.29      , 326.47      , 383.684     ,\n",
       "       368.555     , 658.59133333, 322.81      , 308.03      ,\n",
       "       383.9       , 297.45      , 410.945     , 334.49      ,\n",
       "       409.03666667, 327.215     , 404.9       , 388.45666667,\n",
       "       345.71666667, 353.53933333, 443.51      , 324.59166667,\n",
       "       445.506     , 376.58      , 335.68      , 353.92      ,\n",
       "       432.26      , 471.63333333, 397.49      , 409.74166667,\n",
       "       358.07166667, 361.39      , 281.34      , 426.48666667,\n",
       "       378.11      , 311.95      , 364.38      , 400.28433333,\n",
       "       389.43583333, 349.48      , 359.42      , 360.26333333,\n",
       "       342.13      , 409.65      , 316.79666667, 418.91666667,\n",
       "       599.66      , 440.30566667, 393.50333333, 419.8       ,\n",
       "       353.88      , 247.88      , 519.12333333, 507.81666667,\n",
       "       313.83833333, 345.185     , 568.33      , 321.99      ,\n",
       "       311.71333333, 406.28      , 406.65547619, 304.784     ,\n",
       "       425.00995238, 352.09266667, 326.05      , 285.2       ,\n",
       "       429.13333333, 347.996     , 408.77      , 288.63      ,\n",
       "       366.71333333, 457.20833333, 272.84      , 432.66      ,\n",
       "       400.22666667, 333.88083333, 458.05      , 487.517     ,\n",
       "       417.04      , 550.95666667, 337.746     , 429.99      ,\n",
       "       371.43      , 311.00666667, 377.21333333, 397.185     ,\n",
       "       439.31      , 354.39      , 373.275     , 351.19      ,\n",
       "       328.84333333, 517.5       , 391.17      , 587.61      ,\n",
       "       433.385     , 437.84333333, 324.2775    , 332.245     ,\n",
       "       386.94666667, 549.99333333, 446.03      , 414.03      ,\n",
       "       412.774     , 407.85      , 338.47066667, 295.81      ,\n",
       "       418.62      , 410.295     , 341.35483333, 341.23361905,\n",
       "       324.83      , 335.35866667, 454.91      , 357.14      ,\n",
       "       404.225     , 475.27      , 352.27916667, 292.32166667,\n",
       "       269.252     , 494.08666667, 315.22      , 385.7       ,\n",
       "       404.308     , 382.3       , 489.5       , 331.51      ,\n",
       "       460.88      , 430.805     , 553.19      , 430.76      ,\n",
       "       366.52      , 492.60585714, 453.49      , 359.63033333,\n",
       "       362.3       , 338.24333333, 333.38833333, 411.83      ,\n",
       "       332.84      , 396.99333333, 397.82      , 378.745     ,\n",
       "       442.52      ])"
      ]
     },
     "execution_count": 54,
     "metadata": {},
     "output_type": "execute_result"
    }
   ],
   "source": [
    "result"
   ]
  },
  {
   "cell_type": "code",
   "execution_count": null,
   "metadata": {},
   "outputs": [],
   "source": []
  }
 ],
 "metadata": {
  "kernelspec": {
   "display_name": "Python 3",
   "language": "python",
   "name": "python3"
  },
  "language_info": {
   "codemirror_mode": {
    "name": "ipython",
    "version": 3
   },
   "file_extension": ".py",
   "mimetype": "text/x-python",
   "name": "python",
   "nbconvert_exporter": "python",
   "pygments_lexer": "ipython3",
   "version": "3.8.5"
  }
 },
 "nbformat": 4,
 "nbformat_minor": 4
}
